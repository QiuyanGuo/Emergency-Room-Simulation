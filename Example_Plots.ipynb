{
 "cells": [
  {
   "cell_type": "code",
   "execution_count": 3,
   "metadata": {},
   "outputs": [],
   "source": [
    "import random\n",
    "import numpy as np\n",
    "import pandas as pd\n",
    "from scipy.stats import truncnorm\n",
    "import matplotlib.pyplot as plt\n",
    "from time import clock"
   ]
  },
  {
   "cell_type": "markdown",
   "metadata": {},
   "source": [
    "# Assumptions\n",
    "## 8 nurses, 4 doctors at any given time, around 20 patients/hour, 30 minutes as mean time spent with a nurse/doctor, following normal distribution"
   ]
  },
  {
   "cell_type": "code",
   "execution_count": 4,
   "metadata": {},
   "outputs": [],
   "source": [
    "nurse = 8\n",
    "doctor = 4\n",
    "patient_per_hour = 20  # the range of patients to get a specific patient number would be 18-22\n",
    "\n",
    "mean_time = 30\n",
    "sd = 1\n",
    "min_time = 20\n",
    "max_time = 40\n",
    "\n",
    "\n",
    "class TimeDistribution:\n",
    "    \n",
    "    def __init__(self, mean_t=0, sd=0, min_t=0, max_t=0, num=0):\n",
    "        self.mean = mean_t\n",
    "        self.sd = sd\n",
    "        self.min = min_t\n",
    "        self.max = max_t\n",
    "        self.num = num\n",
    "\n",
    "    # Return a list of time following normal distribution\n",
    "    def time_spend(self) -> list:\n",
    "        generator = truncnorm((self.min-self.mean)/self.sd, (self.max-self.mean)/self.sd, loc=self.mean, scale=self.sd)\n",
    "        time = generator.rvs(self.num)\n",
    "        return time\n",
    "\n",
    "    # Return the sum of the list of time\n",
    "    def sum_truncnorm(self) -> float:\n",
    "        generator = truncnorm((self.min - self.mean) / self.sd, (self.max - self.mean) / self.sd, loc=self.mean, scale=self.sd)\n",
    "        time = generator.rvs(self.num)\n",
    "        return sum(time)"
   ]
  },
  {
   "cell_type": "markdown",
   "metadata": {},
   "source": [
    "# Nurse and doctor utilization\n",
    "## Build the function calculating the utilization of the nurses and doctors in one hour, run it multiple times, put the results in two lists"
   ]
  },
  {
   "cell_type": "code",
   "execution_count": 28,
   "metadata": {},
   "outputs": [
    {
     "name": "stdout",
     "output_type": "stream",
     "text": [
      "Completed simulations:  10000"
     ]
    }
   ],
   "source": [
    "def utilization(mean_t, sd, min_t, max_t, nurse: int, doctor: int, patient: int, patient_both: int):\n",
    "\n",
    "    # Calculate the total time (minutes) nurses and doctors need to work with patients in one hour\n",
    "    total_nurse_time = TimeDistribution(mean_t, sd, min_t, max_t, patient).sum_truncnorm()\n",
    "    total_doctor_time = TimeDistribution(mean_t, sd, min_t, max_t, patient_both).sum_truncnorm()\n",
    "\n",
    "    # Calculate the utilization values to return\n",
    "    utilization_nurse = total_nurse_time / (nurse * 60)\n",
    "    utilization_doctor = total_doctor_time / (doctor * 60)\n",
    "\n",
    "    return utilization_nurse, utilization_doctor\n",
    "\n",
    "ut_nurse, ut_doctor = [], []\n",
    "\n",
    "for i in range(10000):\n",
    "    if i % 10 == 0:\n",
    "        print('\\rCompleted simulations: ', 10 + i, end='', flush=True)\n",
    "    patient = random.randint(18, 22)\n",
    "    patient_nurse_doctor = int(patient * 0.8)\n",
    "    \n",
    "    utilization_nurse, utilization_doctor = utilization(mean_time, sd, min_time, max_time, nurse, doctor, patient, patient_nurse_doctor)\n",
    "    ut_nurse.append(utilization_nurse)\n",
    "    ut_doctor.append(utilization_doctor)"
   ]
  },
  {
   "cell_type": "markdown",
   "metadata": {},
   "source": [
    "## Show the plot of the list of nurse utilization rates: in 10000 simulations, the rates mostly remains between 1.12 to 1.38"
   ]
  },
  {
   "cell_type": "code",
   "execution_count": 30,
   "metadata": {},
   "outputs": [
    {
     "data": {
      "image/png": "[encoded data removed]",
      "text/plain": [
       "<Figure size 432x288 with 1 Axes>"
      ]
     },
     "metadata": {},
     "output_type": "display_data"
    }
   ],
   "source": [
    "plt.plot(ut_nurse)\n",
    "plt.show()"
   ]
  },
  {
   "cell_type": "markdown",
   "metadata": {},
   "source": [
    "## Show the plot of the list of doctor utilization values: in 10000 simulations, the rates mostly remains between 1.75 to 2.15"
   ]
  },
  {
   "cell_type": "code",
   "execution_count": 31,
   "metadata": {},
   "outputs": [
    {
     "data": {
      "image/png": "[encoded data removed]",
      "text/plain": [
       "<Figure size 432x288 with 1 Axes>"
      ]
     },
     "metadata": {},
     "output_type": "display_data"
    }
   ],
   "source": [
    "plt.plot(ut_doctor)\n",
    "plt.show()"
   ]
  },
  {
   "cell_type": "markdown",
   "metadata": {},
   "source": [
    "# Patients waiting time\n",
    "## Build a function calculating the average and max waiting time for a nurse and a doctor of a patient"
   ]
  },
  {
   "cell_type": "code",
   "execution_count": 11,
   "metadata": {},
   "outputs": [],
   "source": [
    "def wait_time(mean_t, sd, min_t, max_t, nurse, doctor, patient, patient_nurse, patient_both):\n",
    "    \n",
    "    \"\"\"Create a dataframe with a list of patient as index, storing the time point data and time spent length data of \n",
    "       each patient\"\"\"\n",
    "    # Create a list of patient as [patient_1, patient_2, ..., patient_totalnumberofpatients], in order\n",
    "    list_patient = []\n",
    "    for i in range(patient):\n",
    "        list_patient.append('patient_{}'.format(i+1))\n",
    "\n",
    "    # The list of data as index, all initial time data as 0, and assume all patients to see both a nurse and a doctor\n",
    "    df_patients = pd.DataFrame({'Arrival_point': 0, 'Nurse_only': False,\n",
    "                                'Waiting_nurse': 0, 'Meet_nurse_point': 0,\n",
    "                                'Seeing_nurse': 0, 'After_nurse_point': 0,\n",
    "                                'Waiting_doctor': 0, 'Meet_doctor_point': 0,\n",
    "                                'Seeing_doctor': 0, 'After_doctor_point': 0}, index=list_patient)\n",
    "\n",
    "    \"\"\"Deal with 'Arrival_point', 'Nurse_only', 'Seeing_nurse' columns\"\"\"\n",
    "    # Create a list of random numbers that sum to 60 as gaps between every two patients, get patient arrival point\n",
    "    total_time = 60\n",
    "    random_arrival = [random.random() for i in range(patient)]\n",
    "    sum_arrival = sum(random_arrival)\n",
    "    arrival_time = [total_time * i / sum_arrival for i in random_arrival]\n",
    "    for i in range(patient):\n",
    "        df_patients.loc[list_patient[i], 'Arrival_point'] += sum(arrival_time[:i])\n",
    "\n",
    "    # Randomly select certain number of patients as people only come to see a nurse\n",
    "    list_patient_nurse_num = random.sample(list(range(patient)), patient_nurse)\n",
    "    for i in list_patient_nurse_num:\n",
    "        df_patients.loc['patient_{}'.format(i + 1), 'Nurse_only'] = True\n",
    "\n",
    "    # Randomly get the list of time patients spending with nurses\n",
    "    df_patients['Seeing_nurse'] = TimeDistribution(mean_t, sd, min_t, max_t, patient).time_spend()\n",
    "\n",
    "    \"\"\"Create two nurse and doctor arrays, deal with 'Meet_nurse_point', 'Waiting_nurse', 'After_nurse_point' columns, \n",
    "       update nurse array\"\"\"\n",
    "    # Create two arrays for nurses and doctors, each item represents the available time point of a nurse or a doctor\n",
    "    arr_nurse = np.zeros(nurse)\n",
    "    arr_doctor = np.zeros(doctor)\n",
    "\n",
    "    for i in range(patient):\n",
    "        # Compare the min value in nurse array and the arrival point of each patient to get'Meet_nurse_point'\n",
    "        if min(arr_nurse) <= df_patients.loc[list_patient[i], 'Arrival_point']:\n",
    "            df_patients.loc[list_patient[i], 'Meet_nurse_point'] = df_patients.loc[list_patient[i], 'Arrival_point']\n",
    "        else:\n",
    "            df_patients.loc[list_patient[i], 'Meet_nurse_point'] = min(arr_nurse)\n",
    "\n",
    "        df_patients.loc[list_patient[i], 'Waiting_nurse'] = df_patients.loc[list_patient[i], 'Meet_nurse_point'] - df_patients.loc[list_patient[i], 'Arrival_point']\n",
    "        df_patients.loc[list_patient[i], 'After_nurse_point'] = df_patients.loc[list_patient[i], 'Meet_nurse_point'] + df_patients.loc[list_patient[i], 'Seeing_nurse']\n",
    "\n",
    "        # Update the value of the nurse in the array, store his/her next available point in the array\n",
    "        if arr_nurse[np.argmin(arr_nurse)] == 0:\n",
    "            arr_nurse[np.argmin(arr_nurse)] += df_patients.loc[list_patient[i], 'After_nurse_point']\n",
    "        else:\n",
    "            arr_nurse[np.argmin(arr_nurse)] += df_patients.loc[list_patient[i], 'Seeing_nurse']\n",
    "\n",
    "        \n",
    "    \"\"\"Deal with 'Meet_doctor_point', 'Waiting_doctor', 'Seeing_doctor', 'After_nurse_point' columns, update doctor \n",
    "       array during iterating, similar to nurse columns\"\"\"\n",
    "    # Select patients only to see a nurse, put None to their doctor-related cells\n",
    "    list_patient_nurse = [p for p in df_patients[df_patients['Nurse_only'] == True].index]\n",
    "    for i in range(patient_nurse):\n",
    "        df_patients.loc[list_patient_nurse[i], 'Waiting_doctor':'After_doctor_point'] = None\n",
    "\n",
    "    # Randomly put time periods to the 'See_doctor' cells of people to see a doctor\n",
    "    list_patient_both = [p for p in df_patients[df_patients['Nurse_only'] == False].index]\n",
    "    time_doctor = TimeDistribution(mean_t, sd, min_t, max_t, patient_both).time_spend()\n",
    "    for i in range(patient_both):\n",
    "        df_patients.loc[list_patient_both[i], 'Seeing_doctor'] = time_doctor[i]\n",
    "\n",
    "    for i in range(patient_both):\n",
    "        # Compare the min value in doctor array and the After_nurse_point of each patient, get 'Meet_doctor_point'\n",
    "        if min(arr_doctor) <= df_patients.loc[list_patient_both[i], 'After_nurse_point']:\n",
    "            df_patients.loc[list_patient_both[i], 'Meet_doctor_point'] = df_patients.loc[list_patient_both[i], 'After_nurse_point']\n",
    "        else:\n",
    "            df_patients.loc[list_patient_both[i], 'Meet_doctor_point'] = min(arr_doctor)\n",
    "\n",
    "        df_patients.loc[list_patient_both[i], 'Waiting_doctor'] = df_patients.loc[list_patient_both[i], 'Meet_doctor_point'] - df_patients.loc[list_patient_both[i], 'After_nurse_point']\n",
    "        df_patients.loc[list_patient_both[i], 'After_doctor_point'] = df_patients.loc[list_patient_both[i], 'Meet_doctor_point'] + df_patients.loc[list_patient_both[i], 'Seeing_doctor']\n",
    "\n",
    "        # Update the value of the doctor in the array, store his/her next available point in the array\n",
    "        if arr_doctor[np.argmin(arr_doctor)] == 0:\n",
    "            arr_doctor[np.argmin(arr_doctor)] += df_patients.loc[list_patient_both[i], 'After_doctor_point']\n",
    "        else:\n",
    "            arr_doctor[np.argmin(arr_doctor)] += df_patients.loc[list_patient_both[i], 'Seeing_doctor']\n",
    "\n",
    "    \"\"\"After building the dataframs, get the average and max values of Waiting_nurse and Wating_doctor columns to return\"\"\"\n",
    "    average_wait_nurse = round(df_patients['Waiting_nurse'].mean(), 2)\n",
    "    max_wait_nurse = round(df_patients['Waiting_nurse'].max(), 2)\n",
    "    average_wait_doctor = round(df_patients['Waiting_doctor'].sum() / patient_both, 2)\n",
    "    max_wait_doctor = round(df_patients['Waiting_doctor'].max(), 2)\n",
    "\n",
    "    return average_wait_nurse, max_wait_nurse, average_wait_doctor, max_wait_doctor, df_patients"
   ]
  },
  {
   "cell_type": "markdown",
   "metadata": {},
   "source": [
    "## Show one example of the dataframe built in this process"
   ]
  },
  {
   "cell_type": "code",
   "execution_count": 12,
   "metadata": {},
   "outputs": [
    {
     "data": {
      "text/html": [
       "<div>\n",
       "<style scoped>\n",
       "    .dataframe tbody tr th:only-of-type {\n",
       "        vertical-align: middle;\n",
       "    }\n",
       "\n",
       "    .dataframe tbody tr th {\n",
       "        vertical-align: top;\n",
       "    }\n",
       "\n",
       "    .dataframe thead th {\n",
       "        text-align: right;\n",
       "    }\n",
       "</style>\n",
       "<table border=\"1\" class=\"dataframe\">\n",
       "  <thead>\n",
       "    <tr style=\"text-align: right;\">\n",
       "      <th></th>\n",
       "      <th>Arrival_point</th>\n",
       "      <th>Nurse_only</th>\n",
       "      <th>Waiting_nurse</th>\n",
       "      <th>Meet_nurse_point</th>\n",
       "      <th>Seeing_nurse</th>\n",
       "      <th>After_nurse_point</th>\n",
       "      <th>Waiting_doctor</th>\n",
       "      <th>Meet_doctor_point</th>\n",
       "      <th>Seeing_doctor</th>\n",
       "      <th>After_doctor_point</th>\n",
       "    </tr>\n",
       "  </thead>\n",
       "  <tbody>\n",
       "    <tr>\n",
       "      <th>patient_1</th>\n",
       "      <td>0.000000</td>\n",
       "      <td>True</td>\n",
       "      <td>0.000000</td>\n",
       "      <td>0.000000</td>\n",
       "      <td>30.492078</td>\n",
       "      <td>30.492078</td>\n",
       "      <td>NaN</td>\n",
       "      <td>NaN</td>\n",
       "      <td>NaN</td>\n",
       "      <td>NaN</td>\n",
       "    </tr>\n",
       "    <tr>\n",
       "      <th>patient_2</th>\n",
       "      <td>2.566121</td>\n",
       "      <td>False</td>\n",
       "      <td>0.000000</td>\n",
       "      <td>2.566121</td>\n",
       "      <td>30.672638</td>\n",
       "      <td>33.238759</td>\n",
       "      <td>0.000000</td>\n",
       "      <td>33.238759</td>\n",
       "      <td>30.684423</td>\n",
       "      <td>63.923182</td>\n",
       "    </tr>\n",
       "    <tr>\n",
       "      <th>patient_3</th>\n",
       "      <td>5.755206</td>\n",
       "      <td>False</td>\n",
       "      <td>0.000000</td>\n",
       "      <td>5.755206</td>\n",
       "      <td>30.825574</td>\n",
       "      <td>36.580780</td>\n",
       "      <td>0.000000</td>\n",
       "      <td>36.580780</td>\n",
       "      <td>29.122886</td>\n",
       "      <td>65.703666</td>\n",
       "    </tr>\n",
       "    <tr>\n",
       "      <th>patient_4</th>\n",
       "      <td>10.259187</td>\n",
       "      <td>False</td>\n",
       "      <td>0.000000</td>\n",
       "      <td>10.259187</td>\n",
       "      <td>28.693178</td>\n",
       "      <td>38.952365</td>\n",
       "      <td>0.000000</td>\n",
       "      <td>38.952365</td>\n",
       "      <td>31.657713</td>\n",
       "      <td>70.610078</td>\n",
       "    </tr>\n",
       "    <tr>\n",
       "      <th>patient_5</th>\n",
       "      <td>11.068459</td>\n",
       "      <td>True</td>\n",
       "      <td>0.000000</td>\n",
       "      <td>11.068459</td>\n",
       "      <td>31.568208</td>\n",
       "      <td>42.636667</td>\n",
       "      <td>NaN</td>\n",
       "      <td>NaN</td>\n",
       "      <td>NaN</td>\n",
       "      <td>NaN</td>\n",
       "    </tr>\n",
       "    <tr>\n",
       "      <th>patient_6</th>\n",
       "      <td>13.426723</td>\n",
       "      <td>False</td>\n",
       "      <td>0.000000</td>\n",
       "      <td>13.426723</td>\n",
       "      <td>29.722277</td>\n",
       "      <td>43.149000</td>\n",
       "      <td>0.000000</td>\n",
       "      <td>43.149000</td>\n",
       "      <td>31.169525</td>\n",
       "      <td>74.318526</td>\n",
       "    </tr>\n",
       "    <tr>\n",
       "      <th>patient_7</th>\n",
       "      <td>15.675769</td>\n",
       "      <td>False</td>\n",
       "      <td>0.000000</td>\n",
       "      <td>15.675769</td>\n",
       "      <td>28.763043</td>\n",
       "      <td>44.438811</td>\n",
       "      <td>19.484371</td>\n",
       "      <td>63.923182</td>\n",
       "      <td>27.998907</td>\n",
       "      <td>91.922089</td>\n",
       "    </tr>\n",
       "    <tr>\n",
       "      <th>patient_8</th>\n",
       "      <td>17.128759</td>\n",
       "      <td>False</td>\n",
       "      <td>0.000000</td>\n",
       "      <td>17.128759</td>\n",
       "      <td>28.520300</td>\n",
       "      <td>45.649059</td>\n",
       "      <td>20.054607</td>\n",
       "      <td>65.703666</td>\n",
       "      <td>29.386289</td>\n",
       "      <td>95.089956</td>\n",
       "    </tr>\n",
       "    <tr>\n",
       "      <th>patient_9</th>\n",
       "      <td>21.592582</td>\n",
       "      <td>False</td>\n",
       "      <td>8.899496</td>\n",
       "      <td>30.492078</td>\n",
       "      <td>28.610437</td>\n",
       "      <td>59.102515</td>\n",
       "      <td>11.507563</td>\n",
       "      <td>70.610078</td>\n",
       "      <td>29.355968</td>\n",
       "      <td>99.966045</td>\n",
       "    </tr>\n",
       "    <tr>\n",
       "      <th>patient_10</th>\n",
       "      <td>21.803276</td>\n",
       "      <td>False</td>\n",
       "      <td>11.435482</td>\n",
       "      <td>33.238759</td>\n",
       "      <td>30.248271</td>\n",
       "      <td>63.487030</td>\n",
       "      <td>10.831496</td>\n",
       "      <td>74.318526</td>\n",
       "      <td>27.757699</td>\n",
       "      <td>102.076225</td>\n",
       "    </tr>\n",
       "    <tr>\n",
       "      <th>patient_11</th>\n",
       "      <td>25.523125</td>\n",
       "      <td>False</td>\n",
       "      <td>11.057655</td>\n",
       "      <td>36.580780</td>\n",
       "      <td>30.734154</td>\n",
       "      <td>67.314934</td>\n",
       "      <td>24.607154</td>\n",
       "      <td>91.922089</td>\n",
       "      <td>30.203799</td>\n",
       "      <td>122.125887</td>\n",
       "    </tr>\n",
       "    <tr>\n",
       "      <th>patient_12</th>\n",
       "      <td>29.239579</td>\n",
       "      <td>False</td>\n",
       "      <td>9.712786</td>\n",
       "      <td>38.952365</td>\n",
       "      <td>29.859732</td>\n",
       "      <td>68.812097</td>\n",
       "      <td>26.277859</td>\n",
       "      <td>95.089956</td>\n",
       "      <td>28.125834</td>\n",
       "      <td>123.215790</td>\n",
       "    </tr>\n",
       "    <tr>\n",
       "      <th>patient_13</th>\n",
       "      <td>31.335314</td>\n",
       "      <td>False</td>\n",
       "      <td>11.301353</td>\n",
       "      <td>42.636667</td>\n",
       "      <td>29.520298</td>\n",
       "      <td>72.156965</td>\n",
       "      <td>27.809081</td>\n",
       "      <td>99.966045</td>\n",
       "      <td>30.703440</td>\n",
       "      <td>130.669486</td>\n",
       "    </tr>\n",
       "    <tr>\n",
       "      <th>patient_14</th>\n",
       "      <td>33.980615</td>\n",
       "      <td>True</td>\n",
       "      <td>9.168385</td>\n",
       "      <td>43.149000</td>\n",
       "      <td>30.177059</td>\n",
       "      <td>73.326059</td>\n",
       "      <td>NaN</td>\n",
       "      <td>NaN</td>\n",
       "      <td>NaN</td>\n",
       "      <td>NaN</td>\n",
       "    </tr>\n",
       "    <tr>\n",
       "      <th>patient_15</th>\n",
       "      <td>37.679904</td>\n",
       "      <td>True</td>\n",
       "      <td>6.758907</td>\n",
       "      <td>44.438811</td>\n",
       "      <td>32.630123</td>\n",
       "      <td>77.068934</td>\n",
       "      <td>NaN</td>\n",
       "      <td>NaN</td>\n",
       "      <td>NaN</td>\n",
       "      <td>NaN</td>\n",
       "    </tr>\n",
       "    <tr>\n",
       "      <th>patient_16</th>\n",
       "      <td>37.803408</td>\n",
       "      <td>False</td>\n",
       "      <td>7.845652</td>\n",
       "      <td>45.649059</td>\n",
       "      <td>28.817590</td>\n",
       "      <td>74.466649</td>\n",
       "      <td>27.609576</td>\n",
       "      <td>102.076225</td>\n",
       "      <td>31.437921</td>\n",
       "      <td>133.514146</td>\n",
       "    </tr>\n",
       "    <tr>\n",
       "      <th>patient_17</th>\n",
       "      <td>38.417703</td>\n",
       "      <td>False</td>\n",
       "      <td>20.684811</td>\n",
       "      <td>59.102515</td>\n",
       "      <td>30.969698</td>\n",
       "      <td>90.072212</td>\n",
       "      <td>32.053675</td>\n",
       "      <td>122.125887</td>\n",
       "      <td>29.478161</td>\n",
       "      <td>151.604049</td>\n",
       "    </tr>\n",
       "    <tr>\n",
       "      <th>patient_18</th>\n",
       "      <td>42.874395</td>\n",
       "      <td>True</td>\n",
       "      <td>20.612634</td>\n",
       "      <td>63.487030</td>\n",
       "      <td>32.556067</td>\n",
       "      <td>96.043097</td>\n",
       "      <td>NaN</td>\n",
       "      <td>NaN</td>\n",
       "      <td>NaN</td>\n",
       "      <td>NaN</td>\n",
       "    </tr>\n",
       "    <tr>\n",
       "      <th>patient_19</th>\n",
       "      <td>46.474942</td>\n",
       "      <td>False</td>\n",
       "      <td>20.839992</td>\n",
       "      <td>67.314934</td>\n",
       "      <td>29.923863</td>\n",
       "      <td>97.238797</td>\n",
       "      <td>25.976993</td>\n",
       "      <td>123.215790</td>\n",
       "      <td>31.168699</td>\n",
       "      <td>154.384489</td>\n",
       "    </tr>\n",
       "    <tr>\n",
       "      <th>patient_20</th>\n",
       "      <td>50.177590</td>\n",
       "      <td>False</td>\n",
       "      <td>18.634507</td>\n",
       "      <td>68.812097</td>\n",
       "      <td>30.543066</td>\n",
       "      <td>99.355162</td>\n",
       "      <td>31.314324</td>\n",
       "      <td>130.669486</td>\n",
       "      <td>29.782766</td>\n",
       "      <td>160.452252</td>\n",
       "    </tr>\n",
       "    <tr>\n",
       "      <th>patient_21</th>\n",
       "      <td>54.315604</td>\n",
       "      <td>False</td>\n",
       "      <td>17.841360</td>\n",
       "      <td>72.156965</td>\n",
       "      <td>30.193151</td>\n",
       "      <td>102.350116</td>\n",
       "      <td>31.164030</td>\n",
       "      <td>133.514146</td>\n",
       "      <td>31.210534</td>\n",
       "      <td>164.724680</td>\n",
       "    </tr>\n",
       "    <tr>\n",
       "      <th>patient_22</th>\n",
       "      <td>56.804364</td>\n",
       "      <td>False</td>\n",
       "      <td>16.521695</td>\n",
       "      <td>73.326059</td>\n",
       "      <td>29.820482</td>\n",
       "      <td>103.146541</td>\n",
       "      <td>48.457508</td>\n",
       "      <td>151.604049</td>\n",
       "      <td>29.664559</td>\n",
       "      <td>181.268608</td>\n",
       "    </tr>\n",
       "  </tbody>\n",
       "</table>\n",
       "</div>"
      ],
      "text/plain": [
       "            Arrival_point  Nurse_only  Waiting_nurse  Meet_nurse_point  \\\n",
       "patient_1        0.000000        True       0.000000          0.000000   \n",
       "patient_2        2.566121       False       0.000000          2.566121   \n",
       "patient_3        5.755206       False       0.000000          5.755206   \n",
       "patient_4       10.259187       False       0.000000         10.259187   \n",
       "patient_5       11.068459        True       0.000000         11.068459   \n",
       "patient_6       13.426723       False       0.000000         13.426723   \n",
       "patient_7       15.675769       False       0.000000         15.675769   \n",
       "patient_8       17.128759       False       0.000000         17.128759   \n",
       "patient_9       21.592582       False       8.899496         30.492078   \n",
       "patient_10      21.803276       False      11.435482         33.238759   \n",
       "patient_11      25.523125       False      11.057655         36.580780   \n",
       "patient_12      29.239579       False       9.712786         38.952365   \n",
       "patient_13      31.335314       False      11.301353         42.636667   \n",
       "patient_14      33.980615        True       9.168385         43.149000   \n",
       "patient_15      37.679904        True       6.758907         44.438811   \n",
       "patient_16      37.803408       False       7.845652         45.649059   \n",
       "patient_17      38.417703       False      20.684811         59.102515   \n",
       "patient_18      42.874395        True      20.612634         63.487030   \n",
       "patient_19      46.474942       False      20.839992         67.314934   \n",
       "patient_20      50.177590       False      18.634507         68.812097   \n",
       "patient_21      54.315604       False      17.841360         72.156965   \n",
       "patient_22      56.804364       False      16.521695         73.326059   \n",
       "\n",
       "            Seeing_nurse  After_nurse_point  Waiting_doctor  \\\n",
       "patient_1      30.492078          30.492078             NaN   \n",
       "patient_2      30.672638          33.238759        0.000000   \n",
       "patient_3      30.825574          36.580780        0.000000   \n",
       "patient_4      28.693178          38.952365        0.000000   \n",
       "patient_5      31.568208          42.636667             NaN   \n",
       "patient_6      29.722277          43.149000        0.000000   \n",
       "patient_7      28.763043          44.438811       19.484371   \n",
       "patient_8      28.520300          45.649059       20.054607   \n",
       "patient_9      28.610437          59.102515       11.507563   \n",
       "patient_10     30.248271          63.487030       10.831496   \n",
       "patient_11     30.734154          67.314934       24.607154   \n",
       "patient_12     29.859732          68.812097       26.277859   \n",
       "patient_13     29.520298          72.156965       27.809081   \n",
       "patient_14     30.177059          73.326059             NaN   \n",
       "patient_15     32.630123          77.068934             NaN   \n",
       "patient_16     28.817590          74.466649       27.609576   \n",
       "patient_17     30.969698          90.072212       32.053675   \n",
       "patient_18     32.556067          96.043097             NaN   \n",
       "patient_19     29.923863          97.238797       25.976993   \n",
       "patient_20     30.543066          99.355162       31.314324   \n",
       "patient_21     30.193151         102.350116       31.164030   \n",
       "patient_22     29.820482         103.146541       48.457508   \n",
       "\n",
       "            Meet_doctor_point  Seeing_doctor  After_doctor_point  \n",
       "patient_1                 NaN            NaN                 NaN  \n",
       "patient_2           33.238759      30.684423           63.923182  \n",
       "patient_3           36.580780      29.122886           65.703666  \n",
       "patient_4           38.952365      31.657713           70.610078  \n",
       "patient_5                 NaN            NaN                 NaN  \n",
       "patient_6           43.149000      31.169525           74.318526  \n",
       "patient_7           63.923182      27.998907           91.922089  \n",
       "patient_8           65.703666      29.386289           95.089956  \n",
       "patient_9           70.610078      29.355968           99.966045  \n",
       "patient_10          74.318526      27.757699          102.076225  \n",
       "patient_11          91.922089      30.203799          122.125887  \n",
       "patient_12          95.089956      28.125834          123.215790  \n",
       "patient_13          99.966045      30.703440          130.669486  \n",
       "patient_14                NaN            NaN                 NaN  \n",
       "patient_15                NaN            NaN                 NaN  \n",
       "patient_16         102.076225      31.437921          133.514146  \n",
       "patient_17         122.125887      29.478161          151.604049  \n",
       "patient_18                NaN            NaN                 NaN  \n",
       "patient_19         123.215790      31.168699          154.384489  \n",
       "patient_20         130.669486      29.782766          160.452252  \n",
       "patient_21         133.514146      31.210534          164.724680  \n",
       "patient_22         151.604049      29.664559          181.268608  "
      ]
     },
     "execution_count": 12,
     "metadata": {},
     "output_type": "execute_result"
    }
   ],
   "source": [
    "patient = random.randint(18, 22)\n",
    "patient_nurse_doctor = int(patient * 0.8)\n",
    "patient_nurse = patient - patient_nurse_doctor\n",
    "\n",
    "wait_time(mean_time, sd, min_time, max_time, nurse, doctor, patient, patient_nurse, patient_nurse_doctor)[-1]"
   ]
  },
  {
   "cell_type": "markdown",
   "metadata": {},
   "source": [
    "## Run the wait_time function multiple times, put the results from each running in several lists"
   ]
  },
  {
   "cell_type": "code",
   "execution_count": 14,
   "metadata": {},
   "outputs": [
    {
     "name": "stdout",
     "output_type": "stream",
     "text": [
      "Completed simulations:  10000"
     ]
    }
   ],
   "source": [
    "ave_nurse, max_nurse, ave_doctor, max_doctor = [], [], [], []\n",
    "for i in range(10000):\n",
    "    if i % 10 == 0:\n",
    "        print('\\rCompleted simulations: ', 10 + i, end='', flush=True)\n",
    "    patient = random.randint(18, 22)\n",
    "    patient_nurse_doctor = int(patient * 0.8)\n",
    "    patient_nurse = patient - patient_nurse_doctor\n",
    "    \n",
    "    ave_n, max_n, ave_d, max_d = wait_time(mean_time, sd, min_time, max_time, nurse, doctor, patient, patient_nurse, patient_nurse_doctor)[:4]\n",
    "    ave_nurse.append(ave_n)\n",
    "    max_nurse.append(max_n)\n",
    "    ave_doctor.append(ave_d)\n",
    "    max_doctor.append(max_d)"
   ]
  },
  {
   "cell_type": "markdown",
   "metadata": {},
   "source": [
    "## Show the plot of the list of average waiting time for a nurse: in 10000 simulations, it mostly remains between 1 to 9 minutes"
   ]
  },
  {
   "cell_type": "code",
   "execution_count": 15,
   "metadata": {},
   "outputs": [
    {
     "data": {
      "image/png": "[encoded data removed]",
      "text/plain": [
       "<Figure size 432x288 with 1 Axes>"
      ]
     },
     "metadata": {},
     "output_type": "display_data"
    }
   ],
   "source": [
    "plt.plot(ave_nurse)\n",
    "plt.show()"
   ]
  },
  {
   "cell_type": "markdown",
   "metadata": {},
   "source": [
    "## Show the plot of the list of maximum waiting time for a nurse: in 10000 simulations, it mostly remains between 7 to 22 minutes"
   ]
  },
  {
   "cell_type": "code",
   "execution_count": 16,
   "metadata": {},
   "outputs": [
    {
     "data": {
      "image/png": "[encoded data removed]",
      "text/plain": [
       "<Figure size 432x288 with 1 Axes>"
      ]
     },
     "metadata": {},
     "output_type": "display_data"
    }
   ],
   "source": [
    "plt.plot(max_nurse)\n",
    "plt.show()"
   ]
  },
  {
   "cell_type": "markdown",
   "metadata": {},
   "source": [
    "## Show the plot of the list of average waiting time for a doctor: in 10000 simulations, it mostly remains between 13 to 21 minutes"
   ]
  },
  {
   "cell_type": "code",
   "execution_count": 17,
   "metadata": {},
   "outputs": [
    {
     "data": {
      "image/png": "[encoded data removed]",
      "text/plain": [
       "<Figure size 432x288 with 1 Axes>"
      ]
     },
     "metadata": {},
     "output_type": "display_data"
    }
   ],
   "source": [
    "plt.plot(ave_doctor)\n",
    "plt.show()"
   ]
  },
  {
   "cell_type": "markdown",
   "metadata": {},
   "source": [
    "## Show the plot of the list of maximum waiting time for a doctor: in 10000 simulations, it mostly remains between 30 to 50 minutes"
   ]
  },
  {
   "cell_type": "code",
   "execution_count": 18,
   "metadata": {},
   "outputs": [
    {
     "data": {
      "image/png": "[encoded data removed]",
      "text/plain": [
       "<Figure size 432x288 with 1 Axes>"
      ]
     },
     "metadata": {},
     "output_type": "display_data"
    }
   ],
   "source": [
    "plt.plot(max_doctor)\n",
    "plt.show()"
   ]
  },
  {
   "cell_type": "code",
   "execution_count": null,
   "metadata": {},
   "outputs": [],
   "source": []
  }
 ],
 "metadata": {
  "kernelspec": {
   "display_name": "Python 3",
   "language": "python",
   "name": "python3"
  },
  "language_info": {
   "codemirror_mode": {
    "name": "ipython",
    "version": 3
   },
   "file_extension": ".py",
   "mimetype": "text/x-python",
   "name": "python",
   "nbconvert_exporter": "python",
   "pygments_lexer": "ipython3",
   "version": "3.6.5"
  }
 },
 "nbformat": 4,
 "nbformat_minor": 2
}
