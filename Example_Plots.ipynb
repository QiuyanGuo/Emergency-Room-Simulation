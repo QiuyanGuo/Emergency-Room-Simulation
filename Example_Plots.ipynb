{
 "cells": [
  {
   "cell_type": "code",
   "execution_count": 1,
   "metadata": {},
   "outputs": [],
   "source": [
    "import random\n",
    "import numpy as np\n",
    "import pandas as pd\n",
    "from scipy.stats import truncnorm\n",
    "import matplotlib.pyplot as plt\n",
    "from time import clock"
   ]
  },
  {
   "cell_type": "markdown",
   "metadata": {},
   "source": [
    "# Assumptions\n",
    "## 8 nurses, 4 doctors at any given time, around 20 patients/hour, 30 minutes as mean time spent with a nurse/doctor, following normal distribution"
   ]
  },
  {
   "cell_type": "code",
   "execution_count": 2,
   "metadata": {},
   "outputs": [],
   "source": [
    "nurse = 8\n",
    "doctor = 4\n",
    "patient_per_hour = 20  # the range of patients to get a specific patient number would be 18-22\n",
    "\n",
    "mean_time = 30\n",
    "sd = 1\n",
    "min_time = 20\n",
    "max_time = 40\n",
    "\n",
    "\n",
    "class TimeDistribution:\n",
    "    \n",
    "    def __init__(self, mean_t=0, sd=0, min_t=0, max_t=0, num=0):\n",
    "        self.mean = mean_t\n",
    "        self.sd = sd\n",
    "        self.min = min_t\n",
    "        self.max = max_t\n",
    "        self.num = num\n",
    "\n",
    "    # Return a list of time following normal distribution\n",
    "    def time_spend(self) -> list:\n",
    "        generator = truncnorm((self.min-self.mean)/self.sd, (self.max-self.mean)/self.sd, loc=self.mean, scale=self.sd)\n",
    "        time = generator.rvs(self.num)\n",
    "        return time\n",
    "\n",
    "    # Return the sum of the list of time\n",
    "    def sum_truncnorm(self) -> float:\n",
    "        generator = truncnorm((self.min - self.mean) / self.sd, (self.max - self.mean) / self.sd, loc=self.mean, scale=self.sd)\n",
    "        time = generator.rvs(self.num)\n",
    "        return sum(time)"
   ]
  },
  {
   "cell_type": "markdown",
   "metadata": {},
   "source": [
    "# Nurse and doctor utilization\n",
    "## Build the function calculating the utilization of the nurses and doctors in one hour, run it multiple times, put the results in two lists"
   ]
  },
  {
   "cell_type": "code",
   "execution_count": 3,
   "metadata": {},
   "outputs": [],
   "source": [
    "def utilization(mean_t, sd, min_t, max_t, nurse: int, doctor: int, patient: int, patient_both: int):\n",
    "\n",
    "    # Calculate the total time (minutes) nurses and doctors need to work with patients in one hour\n",
    "    total_nurse_time = TimeDistribution(mean_t, sd, min_t, max_t, patient).sum_truncnorm()\n",
    "    total_doctor_time = TimeDistribution(mean_t, sd, min_t, max_t, patient_both).sum_truncnorm()\n",
    "\n",
    "    # Calculate the utilization values to return\n",
    "    utilization_nurse = total_nurse_time / (nurse * 60)\n",
    "    utilization_doctor = total_doctor_time / (doctor * 60)\n",
    "\n",
    "    return utilization_nurse, utilization_doctor\n",
    "\n",
    "ut_nurse, ut_doctor = [], []\n",
    "for i in range(20000):\n",
    "    \n",
    "    patient = random.randint(18, 22)\n",
    "    patient_nurse_doctor = int(patient * 0.8)\n",
    "    \n",
    "    utilization_nurse, utilization_doctor = utilization(mean_time, sd, min_time, max_time, nurse, doctor, patient, patient_nurse_doctor)\n",
    "    ut_nurse.append(utilization_nurse)\n",
    "    ut_doctor.append(utilization_doctor)"
   ]
  },
  {
   "cell_type": "markdown",
   "metadata": {},
   "source": [
    "## Show the plot of the list of nurse utilization rates: in 20000 simulations, the rates mostly remains between 1.12 to 1.38"
   ]
  },
  {
   "cell_type": "code",
   "execution_count": 4,
   "metadata": {},
   "outputs": [
    {
     "data": {
      "image/png": "[encoded data removed]",
      "text/plain": [
       "<Figure size 432x288 with 1 Axes>"
      ]
     },
     "metadata": {},
     "output_type": "display_data"
    }
   ],
   "source": [
    "plt.plot(ut_nurse)\n",
    "plt.show()"
   ]
  },
  {
   "cell_type": "markdown",
   "metadata": {},
   "source": [
    "## Show the plot of the list of doctor utilization values: in 20000 simulations, the rates mostly remains between 1.75 to 2.15"
   ]
  },
  {
   "cell_type": "code",
   "execution_count": 5,
   "metadata": {},
   "outputs": [
    {
     "data": {
      "image/png": "[encoded data removed]",
      "text/plain": [
       "<Figure size 432x288 with 1 Axes>"
      ]
     },
     "metadata": {},
     "output_type": "display_data"
    }
   ],
   "source": [
    "plt.plot(ut_doctor)\n",
    "plt.show()"
   ]
  },
  {
   "cell_type": "markdown",
   "metadata": {},
   "source": [
    "# Patients waiting time\n",
    "## Build a function calculating the average and max waiting time for a nurse and a doctor of a patient"
   ]
  },
  {
   "cell_type": "code",
   "execution_count": 6,
   "metadata": {},
   "outputs": [],
   "source": [
    "def wait_time(mean_t, sd, min_t, max_t, nurse, doctor, patient, patient_nurse, patient_both):\n",
    "    \n",
    "    \"\"\"Create a dataframe with a list of patient as index, storing the time point data and time spent length data of \n",
    "       each patient\"\"\"\n",
    "    # Create a list of patient as [patient_1, patient_2, ..., patient_totalnumberofpatients], in order\n",
    "    list_patient = []\n",
    "    for i in range(patient):\n",
    "        list_patient.append('patient_{}'.format(i+1))\n",
    "\n",
    "    # The list of data as index, all initial time data as 0, and assume all patients to see both a nurse and a doctor\n",
    "    df_patients = pd.DataFrame({'Arrival_point': 0, 'Nurse_only': False,\n",
    "                                'Waiting_nurse': 0, 'Meet_nurse_point': 0,\n",
    "                                'Seeing_nurse': 0, 'After_nurse_point': 0,\n",
    "                                'Waiting_doctor': 0, 'Meet_doctor_point': 0,\n",
    "                                'Seeing_doctor': 0, 'After_doctor_point': 0}, index=list_patient)\n",
    "\n",
    "    \"\"\"Deal with 'Arrival_point', 'Nurse_only', 'Seeing_nurse' columns\"\"\"\n",
    "    # Create a list of random numbers that sum to 60 as gaps between every two patients, get patient arrival point\n",
    "    total_time = 60\n",
    "    random_arrival = [random.random() for i in range(patient)]\n",
    "    sum_arrival = sum(random_arrival)\n",
    "    arrival_time = [total_time * i / sum_arrival for i in random_arrival]\n",
    "    for i in range(patient):\n",
    "        df_patients.loc[list_patient[i], 'Arrival_point'] += sum(arrival_time[:i])\n",
    "\n",
    "    # Randomly select certain number of patients as people only come to see a nurse\n",
    "    list_patient_nurse_num = random.sample(list(range(patient)), patient_nurse)\n",
    "    for i in list_patient_nurse_num:\n",
    "        df_patients.loc['patient_{}'.format(i + 1), 'Nurse_only'] = True\n",
    "\n",
    "    # Randomly get the list of time patients spending with nurses\n",
    "    df_patients['Seeing_nurse'] = TimeDistribution(mean_t, sd, min_t, max_t, patient).time_spend()\n",
    "\n",
    "    \"\"\"Create two nurse and doctor arrays, deal with 'Meet_nurse_point', 'Waiting_nurse', 'After_nurse_point' columns, \n",
    "       update nurse array\"\"\"\n",
    "    # Create two arrays for nurses and doctors, each item represents the available time point of a nurse or a doctor\n",
    "    arr_nurse = np.zeros(nurse)\n",
    "    arr_doctor = np.zeros(doctor)\n",
    "\n",
    "    for i in range(patient):\n",
    "        # Compare the min value in nurse array and the arrival point of each patient to get'Meet_nurse_point'\n",
    "        if min(arr_nurse) <= df_patients.loc[list_patient[i], 'Arrival_point']:\n",
    "            df_patients.loc[list_patient[i], 'Meet_nurse_point'] = df_patients.loc[list_patient[i], 'Arrival_point']\n",
    "        else:\n",
    "            df_patients.loc[list_patient[i], 'Meet_nurse_point'] = min(arr_nurse)\n",
    "\n",
    "        df_patients.loc[list_patient[i], 'Waiting_nurse'] = df_patients.loc[list_patient[i], 'Meet_nurse_point'] - df_patients.loc[list_patient[i], 'Arrival_point']\n",
    "        df_patients.loc[list_patient[i], 'After_nurse_point'] = df_patients.loc[list_patient[i], 'Meet_nurse_point'] + df_patients.loc[list_patient[i], 'Seeing_nurse']\n",
    "\n",
    "        # Update the value of the nurse in the array, store his/her next available point in the array\n",
    "        arr_nurse[np.argmin(arr_nurse)] += df_patients.loc[list_patient[i], 'Seeing_nurse']\n",
    "\n",
    "        \n",
    "    \"\"\"Deal with 'Meet_doctor_point', 'Waiting_doctor', 'Seeing_doctor', 'After_nurse_point' columns, update doctor \n",
    "       array during iterating, similar to nurse columns\"\"\"\n",
    "    # Select patients only to see a nurse, put None to their doctor-related cells\n",
    "    list_patient_nurse = [p for p in df_patients[df_patients['Nurse_only'] == True].index]\n",
    "    for i in range(patient_nurse):\n",
    "        df_patients.loc[list_patient_nurse[i], 'Waiting_doctor':'After_doctor_point'] = None\n",
    "\n",
    "    # Randomly put time periods to the 'See_doctor' cells of people to see a doctor\n",
    "    list_patient_both = [p for p in df_patients[df_patients['Nurse_only'] == False].index]\n",
    "    time_doctor = TimeDistribution(mean_t, sd, min_t, max_t, patient_both).time_spend()\n",
    "    for i in range(patient_both):\n",
    "        df_patients.loc[list_patient_both[i], 'Seeing_doctor'] = time_doctor[i]\n",
    "\n",
    "    for i in range(patient_both):\n",
    "        # Compare the min value in doctor array and the After_nurse_point of each patient, get 'Meet_doctor_point'\n",
    "        if min(arr_doctor) <= df_patients.loc[list_patient_both[i], 'After_nurse_point']:\n",
    "            df_patients.loc[list_patient_both[i], 'Meet_doctor_point'] = df_patients.loc[list_patient_both[i], 'After_nurse_point']\n",
    "        else:\n",
    "            df_patients.loc[list_patient_both[i], 'Meet_doctor_point'] = min(arr_doctor)\n",
    "\n",
    "        df_patients.loc[list_patient_both[i], 'Waiting_doctor'] = df_patients.loc[list_patient_both[i], 'Meet_doctor_point'] - df_patients.loc[list_patient_both[i], 'After_nurse_point']\n",
    "        df_patients.loc[list_patient_both[i], 'After_doctor_point'] = df_patients.loc[list_patient_both[i], 'Meet_doctor_point'] + df_patients.loc[list_patient_both[i], 'Seeing_doctor']\n",
    "\n",
    "        # Update the value of the doctor in the array, store his/her next available point in the array\n",
    "        arr_doctor[np.argmin(arr_doctor)] += df_patients.loc[list_patient_both[i], 'Seeing_doctor']\n",
    "\n",
    "    \"\"\"After building the dataframs, get the average and max values of Waiting_nurse and Wating_doctor columns to return\"\"\"\n",
    "    average_wait_nurse = round(df_patients['Waiting_nurse'].mean(), 2)\n",
    "    max_wait_nurse = round(df_patients['Waiting_nurse'].max(), 2)\n",
    "    average_wait_doctor = round(df_patients['Waiting_doctor'].sum() / patient_both, 2)\n",
    "    max_wait_doctor = round(df_patients['Waiting_doctor'].max(), 2)\n",
    "\n",
    "    return average_wait_nurse, max_wait_nurse, average_wait_doctor, max_wait_doctor, df_patients"
   ]
  },
  {
   "cell_type": "markdown",
   "metadata": {},
   "source": [
    "## Show one example of the dataframe built in this process"
   ]
  },
  {
   "cell_type": "code",
   "execution_count": 9,
   "metadata": {},
   "outputs": [
    {
     "data": {
      "text/html": [
       "<div>\n",
       "<style scoped>\n",
       "    .dataframe tbody tr th:only-of-type {\n",
       "        vertical-align: middle;\n",
       "    }\n",
       "\n",
       "    .dataframe tbody tr th {\n",
       "        vertical-align: top;\n",
       "    }\n",
       "\n",
       "    .dataframe thead th {\n",
       "        text-align: right;\n",
       "    }\n",
       "</style>\n",
       "<table border=\"1\" class=\"dataframe\">\n",
       "  <thead>\n",
       "    <tr style=\"text-align: right;\">\n",
       "      <th></th>\n",
       "      <th>Arrival_point</th>\n",
       "      <th>Nurse_only</th>\n",
       "      <th>Waiting_nurse</th>\n",
       "      <th>Meet_nurse_point</th>\n",
       "      <th>Seeing_nurse</th>\n",
       "      <th>After_nurse_point</th>\n",
       "      <th>Waiting_doctor</th>\n",
       "      <th>Meet_doctor_point</th>\n",
       "      <th>Seeing_doctor</th>\n",
       "      <th>After_doctor_point</th>\n",
       "    </tr>\n",
       "  </thead>\n",
       "  <tbody>\n",
       "    <tr>\n",
       "      <th>patient_1</th>\n",
       "      <td>0.000000</td>\n",
       "      <td>False</td>\n",
       "      <td>0.000000</td>\n",
       "      <td>0.000000</td>\n",
       "      <td>30.175891</td>\n",
       "      <td>30.175891</td>\n",
       "      <td>0.000000</td>\n",
       "      <td>30.175891</td>\n",
       "      <td>28.756844</td>\n",
       "      <td>58.932735</td>\n",
       "    </tr>\n",
       "    <tr>\n",
       "      <th>patient_2</th>\n",
       "      <td>3.115644</td>\n",
       "      <td>False</td>\n",
       "      <td>0.000000</td>\n",
       "      <td>3.115644</td>\n",
       "      <td>31.486015</td>\n",
       "      <td>34.601659</td>\n",
       "      <td>0.000000</td>\n",
       "      <td>34.601659</td>\n",
       "      <td>29.110017</td>\n",
       "      <td>63.711676</td>\n",
       "    </tr>\n",
       "    <tr>\n",
       "      <th>patient_3</th>\n",
       "      <td>7.235595</td>\n",
       "      <td>True</td>\n",
       "      <td>0.000000</td>\n",
       "      <td>7.235595</td>\n",
       "      <td>30.817487</td>\n",
       "      <td>38.053082</td>\n",
       "      <td>NaN</td>\n",
       "      <td>NaN</td>\n",
       "      <td>NaN</td>\n",
       "      <td>NaN</td>\n",
       "    </tr>\n",
       "    <tr>\n",
       "      <th>patient_4</th>\n",
       "      <td>8.338012</td>\n",
       "      <td>False</td>\n",
       "      <td>0.000000</td>\n",
       "      <td>8.338012</td>\n",
       "      <td>29.631160</td>\n",
       "      <td>37.969172</td>\n",
       "      <td>0.000000</td>\n",
       "      <td>37.969172</td>\n",
       "      <td>30.799787</td>\n",
       "      <td>68.768960</td>\n",
       "    </tr>\n",
       "    <tr>\n",
       "      <th>patient_5</th>\n",
       "      <td>8.418766</td>\n",
       "      <td>False</td>\n",
       "      <td>0.000000</td>\n",
       "      <td>8.418766</td>\n",
       "      <td>30.383003</td>\n",
       "      <td>38.801769</td>\n",
       "      <td>0.000000</td>\n",
       "      <td>38.801769</td>\n",
       "      <td>32.100078</td>\n",
       "      <td>70.901846</td>\n",
       "    </tr>\n",
       "    <tr>\n",
       "      <th>patient_6</th>\n",
       "      <td>11.911356</td>\n",
       "      <td>False</td>\n",
       "      <td>0.000000</td>\n",
       "      <td>11.911356</td>\n",
       "      <td>31.442721</td>\n",
       "      <td>43.354077</td>\n",
       "      <td>0.000000</td>\n",
       "      <td>43.354077</td>\n",
       "      <td>31.685525</td>\n",
       "      <td>75.039602</td>\n",
       "    </tr>\n",
       "    <tr>\n",
       "      <th>patient_7</th>\n",
       "      <td>14.001435</td>\n",
       "      <td>True</td>\n",
       "      <td>0.000000</td>\n",
       "      <td>14.001435</td>\n",
       "      <td>28.932021</td>\n",
       "      <td>42.933456</td>\n",
       "      <td>NaN</td>\n",
       "      <td>NaN</td>\n",
       "      <td>NaN</td>\n",
       "      <td>NaN</td>\n",
       "    </tr>\n",
       "    <tr>\n",
       "      <th>patient_8</th>\n",
       "      <td>15.476225</td>\n",
       "      <td>False</td>\n",
       "      <td>0.000000</td>\n",
       "      <td>15.476225</td>\n",
       "      <td>30.215435</td>\n",
       "      <td>45.691660</td>\n",
       "      <td>0.000000</td>\n",
       "      <td>45.691660</td>\n",
       "      <td>30.048820</td>\n",
       "      <td>75.740480</td>\n",
       "    </tr>\n",
       "    <tr>\n",
       "      <th>patient_9</th>\n",
       "      <td>19.231828</td>\n",
       "      <td>True</td>\n",
       "      <td>9.700192</td>\n",
       "      <td>28.932021</td>\n",
       "      <td>27.982293</td>\n",
       "      <td>56.914314</td>\n",
       "      <td>NaN</td>\n",
       "      <td>NaN</td>\n",
       "      <td>NaN</td>\n",
       "      <td>NaN</td>\n",
       "    </tr>\n",
       "    <tr>\n",
       "      <th>patient_10</th>\n",
       "      <td>19.270848</td>\n",
       "      <td>False</td>\n",
       "      <td>10.360312</td>\n",
       "      <td>29.631160</td>\n",
       "      <td>31.505165</td>\n",
       "      <td>61.136325</td>\n",
       "      <td>0.000000</td>\n",
       "      <td>61.136325</td>\n",
       "      <td>30.868509</td>\n",
       "      <td>92.004835</td>\n",
       "    </tr>\n",
       "    <tr>\n",
       "      <th>patient_11</th>\n",
       "      <td>23.898877</td>\n",
       "      <td>False</td>\n",
       "      <td>6.277014</td>\n",
       "      <td>30.175891</td>\n",
       "      <td>30.390112</td>\n",
       "      <td>60.566003</td>\n",
       "      <td>0.000000</td>\n",
       "      <td>60.566003</td>\n",
       "      <td>29.687292</td>\n",
       "      <td>90.253295</td>\n",
       "    </tr>\n",
       "    <tr>\n",
       "      <th>patient_12</th>\n",
       "      <td>28.394487</td>\n",
       "      <td>False</td>\n",
       "      <td>1.820948</td>\n",
       "      <td>30.215435</td>\n",
       "      <td>30.092119</td>\n",
       "      <td>60.307554</td>\n",
       "      <td>0.000000</td>\n",
       "      <td>60.307554</td>\n",
       "      <td>30.205678</td>\n",
       "      <td>90.513232</td>\n",
       "    </tr>\n",
       "    <tr>\n",
       "      <th>patient_13</th>\n",
       "      <td>31.365266</td>\n",
       "      <td>False</td>\n",
       "      <td>0.000000</td>\n",
       "      <td>31.365266</td>\n",
       "      <td>31.187970</td>\n",
       "      <td>62.553237</td>\n",
       "      <td>0.000000</td>\n",
       "      <td>62.553237</td>\n",
       "      <td>31.177154</td>\n",
       "      <td>93.730391</td>\n",
       "    </tr>\n",
       "    <tr>\n",
       "      <th>patient_14</th>\n",
       "      <td>35.680705</td>\n",
       "      <td>False</td>\n",
       "      <td>0.000000</td>\n",
       "      <td>35.680705</td>\n",
       "      <td>31.078300</td>\n",
       "      <td>66.759005</td>\n",
       "      <td>0.000000</td>\n",
       "      <td>66.759005</td>\n",
       "      <td>29.492806</td>\n",
       "      <td>96.251811</td>\n",
       "    </tr>\n",
       "    <tr>\n",
       "      <th>patient_15</th>\n",
       "      <td>38.177762</td>\n",
       "      <td>False</td>\n",
       "      <td>0.000000</td>\n",
       "      <td>38.177762</td>\n",
       "      <td>30.764587</td>\n",
       "      <td>68.942350</td>\n",
       "      <td>0.000000</td>\n",
       "      <td>68.942350</td>\n",
       "      <td>30.565119</td>\n",
       "      <td>99.507468</td>\n",
       "    </tr>\n",
       "    <tr>\n",
       "      <th>patient_16</th>\n",
       "      <td>42.411772</td>\n",
       "      <td>False</td>\n",
       "      <td>0.000000</td>\n",
       "      <td>42.411772</td>\n",
       "      <td>28.234394</td>\n",
       "      <td>70.646167</td>\n",
       "      <td>18.718348</td>\n",
       "      <td>89.364515</td>\n",
       "      <td>30.759430</td>\n",
       "      <td>120.123944</td>\n",
       "    </tr>\n",
       "    <tr>\n",
       "      <th>patient_17</th>\n",
       "      <td>45.605001</td>\n",
       "      <td>False</td>\n",
       "      <td>11.309312</td>\n",
       "      <td>56.914314</td>\n",
       "      <td>31.302158</td>\n",
       "      <td>88.216472</td>\n",
       "      <td>2.944631</td>\n",
       "      <td>91.161103</td>\n",
       "      <td>30.224078</td>\n",
       "      <td>121.385180</td>\n",
       "    </tr>\n",
       "    <tr>\n",
       "      <th>patient_18</th>\n",
       "      <td>49.877998</td>\n",
       "      <td>True</td>\n",
       "      <td>9.842411</td>\n",
       "      <td>59.720409</td>\n",
       "      <td>30.803920</td>\n",
       "      <td>90.524330</td>\n",
       "      <td>NaN</td>\n",
       "      <td>NaN</td>\n",
       "      <td>NaN</td>\n",
       "      <td>NaN</td>\n",
       "    </tr>\n",
       "    <tr>\n",
       "      <th>patient_19</th>\n",
       "      <td>53.908448</td>\n",
       "      <td>False</td>\n",
       "      <td>6.399107</td>\n",
       "      <td>60.307554</td>\n",
       "      <td>29.694467</td>\n",
       "      <td>90.002021</td>\n",
       "      <td>1.617502</td>\n",
       "      <td>91.619523</td>\n",
       "      <td>32.306940</td>\n",
       "      <td>123.926464</td>\n",
       "    </tr>\n",
       "    <tr>\n",
       "      <th>patient_20</th>\n",
       "      <td>57.729625</td>\n",
       "      <td>False</td>\n",
       "      <td>2.836378</td>\n",
       "      <td>60.566003</td>\n",
       "      <td>29.411192</td>\n",
       "      <td>89.977195</td>\n",
       "      <td>2.375293</td>\n",
       "      <td>92.352488</td>\n",
       "      <td>31.607635</td>\n",
       "      <td>123.960123</td>\n",
       "    </tr>\n",
       "  </tbody>\n",
       "</table>\n",
       "</div>"
      ],
      "text/plain": [
       "            Arrival_point  Nurse_only  Waiting_nurse  Meet_nurse_point  \\\n",
       "patient_1        0.000000       False       0.000000          0.000000   \n",
       "patient_2        3.115644       False       0.000000          3.115644   \n",
       "patient_3        7.235595        True       0.000000          7.235595   \n",
       "patient_4        8.338012       False       0.000000          8.338012   \n",
       "patient_5        8.418766       False       0.000000          8.418766   \n",
       "patient_6       11.911356       False       0.000000         11.911356   \n",
       "patient_7       14.001435        True       0.000000         14.001435   \n",
       "patient_8       15.476225       False       0.000000         15.476225   \n",
       "patient_9       19.231828        True       9.700192         28.932021   \n",
       "patient_10      19.270848       False      10.360312         29.631160   \n",
       "patient_11      23.898877       False       6.277014         30.175891   \n",
       "patient_12      28.394487       False       1.820948         30.215435   \n",
       "patient_13      31.365266       False       0.000000         31.365266   \n",
       "patient_14      35.680705       False       0.000000         35.680705   \n",
       "patient_15      38.177762       False       0.000000         38.177762   \n",
       "patient_16      42.411772       False       0.000000         42.411772   \n",
       "patient_17      45.605001       False      11.309312         56.914314   \n",
       "patient_18      49.877998        True       9.842411         59.720409   \n",
       "patient_19      53.908448       False       6.399107         60.307554   \n",
       "patient_20      57.729625       False       2.836378         60.566003   \n",
       "\n",
       "            Seeing_nurse  After_nurse_point  Waiting_doctor  \\\n",
       "patient_1      30.175891          30.175891        0.000000   \n",
       "patient_2      31.486015          34.601659        0.000000   \n",
       "patient_3      30.817487          38.053082             NaN   \n",
       "patient_4      29.631160          37.969172        0.000000   \n",
       "patient_5      30.383003          38.801769        0.000000   \n",
       "patient_6      31.442721          43.354077        0.000000   \n",
       "patient_7      28.932021          42.933456             NaN   \n",
       "patient_8      30.215435          45.691660        0.000000   \n",
       "patient_9      27.982293          56.914314             NaN   \n",
       "patient_10     31.505165          61.136325        0.000000   \n",
       "patient_11     30.390112          60.566003        0.000000   \n",
       "patient_12     30.092119          60.307554        0.000000   \n",
       "patient_13     31.187970          62.553237        0.000000   \n",
       "patient_14     31.078300          66.759005        0.000000   \n",
       "patient_15     30.764587          68.942350        0.000000   \n",
       "patient_16     28.234394          70.646167       18.718348   \n",
       "patient_17     31.302158          88.216472        2.944631   \n",
       "patient_18     30.803920          90.524330             NaN   \n",
       "patient_19     29.694467          90.002021        1.617502   \n",
       "patient_20     29.411192          89.977195        2.375293   \n",
       "\n",
       "            Meet_doctor_point  Seeing_doctor  After_doctor_point  \n",
       "patient_1           30.175891      28.756844           58.932735  \n",
       "patient_2           34.601659      29.110017           63.711676  \n",
       "patient_3                 NaN            NaN                 NaN  \n",
       "patient_4           37.969172      30.799787           68.768960  \n",
       "patient_5           38.801769      32.100078           70.901846  \n",
       "patient_6           43.354077      31.685525           75.039602  \n",
       "patient_7                 NaN            NaN                 NaN  \n",
       "patient_8           45.691660      30.048820           75.740480  \n",
       "patient_9                 NaN            NaN                 NaN  \n",
       "patient_10          61.136325      30.868509           92.004835  \n",
       "patient_11          60.566003      29.687292           90.253295  \n",
       "patient_12          60.307554      30.205678           90.513232  \n",
       "patient_13          62.553237      31.177154           93.730391  \n",
       "patient_14          66.759005      29.492806           96.251811  \n",
       "patient_15          68.942350      30.565119           99.507468  \n",
       "patient_16          89.364515      30.759430          120.123944  \n",
       "patient_17          91.161103      30.224078          121.385180  \n",
       "patient_18                NaN            NaN                 NaN  \n",
       "patient_19          91.619523      32.306940          123.926464  \n",
       "patient_20          92.352488      31.607635          123.960123  "
      ]
     },
     "execution_count": 9,
     "metadata": {},
     "output_type": "execute_result"
    }
   ],
   "source": [
    "patient = random.randint(18, 22)\n",
    "patient_nurse_doctor = int(patient * 0.8)\n",
    "patient_nurse = patient - patient_nurse_doctor\n",
    "\n",
    "wait_time(mean_time, sd, min_time, max_time, nurse, doctor, patient, patient_nurse, patient_nurse_doctor)[-1]"
   ]
  },
  {
   "cell_type": "markdown",
   "metadata": {},
   "source": [
    "## Run the wait_time function multiple times, put the results from each running in several lists"
   ]
  },
  {
   "cell_type": "code",
   "execution_count": 10,
   "metadata": {},
   "outputs": [],
   "source": [
    "ave_nurse, max_nurse, ave_doctor, max_doctor = [], [], [], []\n",
    "for i in range(20000):\n",
    "    patient = random.randint(18, 22)\n",
    "    patient_nurse_doctor = int(patient * 0.8)\n",
    "    patient_nurse = patient - patient_nurse_doctor\n",
    "    \n",
    "    ave_n, max_n, ave_d, max_d = wait_time(mean_time, sd, min_time, max_time, nurse, doctor, patient, patient_nurse, patient_nurse_doctor)[:4]\n",
    "    ave_nurse.append(ave_n)\n",
    "    max_nurse.append(max_n)\n",
    "    ave_doctor.append(ave_d)\n",
    "    max_doctor.append(max_d)"
   ]
  },
  {
   "cell_type": "markdown",
   "metadata": {},
   "source": [
    "## Show the plot of the list of average waiting time for a nurse: in 20000 simulations, it mostly remains between 0 to 5 minutes"
   ]
  },
  {
   "cell_type": "code",
   "execution_count": 11,
   "metadata": {},
   "outputs": [
    {
     "data": {
      "image/png": "[encoded data removed]",
      "text/plain": [
       "<Figure size 432x288 with 1 Axes>"
      ]
     },
     "metadata": {},
     "output_type": "display_data"
    }
   ],
   "source": [
    "plt.plot(ave_nurse)\n",
    "plt.show()"
   ]
  },
  {
   "cell_type": "markdown",
   "metadata": {},
   "source": [
    "## Show the plot of the list of maximum waiting time for a nurse: in 20000 simulations, it mostly remains between 2 to 20 minutes"
   ]
  },
  {
   "cell_type": "code",
   "execution_count": 12,
   "metadata": {},
   "outputs": [
    {
     "data": {
      "image/png": "[encoded data removed]",
      "text/plain": [
       "<Figure size 432x288 with 1 Axes>"
      ]
     },
     "metadata": {},
     "output_type": "display_data"
    }
   ],
   "source": [
    "plt.plot(max_nurse)\n",
    "plt.show()"
   ]
  },
  {
   "cell_type": "markdown",
   "metadata": {},
   "source": [
    "## Show the plot of the list of average waiting time for a doctor: in 20000 simulations, it mostly remains between 0 to 4 minutes"
   ]
  },
  {
   "cell_type": "code",
   "execution_count": 13,
   "metadata": {},
   "outputs": [
    {
     "data": {
      "image/png": "[encoded data removed]",
      "text/plain": [
       "<Figure size 432x288 with 1 Axes>"
      ]
     },
     "metadata": {},
     "output_type": "display_data"
    }
   ],
   "source": [
    "plt.plot(ave_doctor)\n",
    "plt.show()"
   ]
  },
  {
   "cell_type": "markdown",
   "metadata": {},
   "source": [
    "## Show the plot of the list of maximum waiting time for a doctor: in 20000 simulations, it mostly remains between 0 to 30 minutes"
   ]
  },
  {
   "cell_type": "code",
   "execution_count": 14,
   "metadata": {},
   "outputs": [
    {
     "data": {
      "image/png": "[encoded data removed]",
      "text/plain": [
       "<Figure size 432x288 with 1 Axes>"
      ]
     },
     "metadata": {},
     "output_type": "display_data"
    }
   ],
   "source": [
    "plt.plot(max_doctor)\n",
    "plt.show()"
   ]
  },
  {
   "cell_type": "code",
   "execution_count": null,
   "metadata": {},
   "outputs": [],
   "source": []
  }
 ],
 "metadata": {
  "kernelspec": {
   "display_name": "Python 3",
   "language": "python",
   "name": "python3"
  },
  "language_info": {
   "codemirror_mode": {
    "name": "ipython",
    "version": 3
   },
   "file_extension": ".py",
   "mimetype": "text/x-python",
   "name": "python",
   "nbconvert_exporter": "python",
   "pygments_lexer": "ipython3",
   "version": "3.6.5"
  }
 },
 "nbformat": 4,
 "nbformat_minor": 2
}
